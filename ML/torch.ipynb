{
 "cells": [
  {
   "cell_type": "markdown",
   "metadata": {},
   "source": [
    "# Derivatives of composition of functions with PyTorch\n",
    "\n",
    "For computation of gradient"
   ]
  },
  {
   "cell_type": "code",
   "execution_count": 1,
   "metadata": {},
   "outputs": [],
   "source": [
    "import torch\n",
    "import numpy as np\n",
    "from math import exp"
   ]
  },
  {
   "cell_type": "code",
   "execution_count": 2,
   "metadata": {},
   "outputs": [],
   "source": [
    "def set_grad(var):\n",
    "    def hook(grad):\n",
    "        var.grad = grad\n",
    "    return hook"
   ]
  },
  {
   "cell_type": "markdown",
   "metadata": {},
   "source": [
    "Set values of data and variables"
   ]
  },
  {
   "cell_type": "code",
   "execution_count": 3,
   "metadata": {},
   "outputs": [],
   "source": [
    "x1 = 1.0\n",
    "x2 = 2.0\n",
    "w1 = 2.0\n",
    "w2 = 1.0\n",
    "b = 1.0\n",
    "y = 1"
   ]
  },
  {
   "cell_type": "code",
   "execution_count": 4,
   "metadata": {},
   "outputs": [],
   "source": [
    "X = torch.tensor([x1, x2]) # X = given fixed data\n",
    "W = torch.tensor([w1, w2], requires_grad=True) # W and B = variable to be computed\n",
    "B = torch.tensor([b], requires_grad=True)"
   ]
  },
  {
   "cell_type": "markdown",
   "metadata": {},
   "source": [
    "Let us define $z = f(w_1, w_2, b) = w_1 x_1 + w_2 x_2 + b$. We have $\\frac{\\partial f}{\\partial w_i} = x_i$ and $\\frac{\\partial f}{\\partial b} = 1$."
   ]
  },
  {
   "cell_type": "code",
   "execution_count": 5,
   "metadata": {},
   "outputs": [],
   "source": [
    "z = W.dot(X) + B"
   ]
  },
  {
   "cell_type": "code",
   "execution_count": 6,
   "metadata": {},
   "outputs": [
    {
     "data": {
      "text/plain": [
       "<torch.utils.hooks.RemovableHandle at 0x10e981550>"
      ]
     },
     "execution_count": 6,
     "metadata": {},
     "output_type": "execute_result"
    }
   ],
   "source": [
    "z.register_hook(set_grad(z))"
   ]
  },
  {
   "cell_type": "markdown",
   "metadata": {},
   "source": [
    "Let us define $\\sigma = g(z) = \\frac{1}{1 + e^{-z}} = g(f(w_1, w_2, b)) = (g \\circ f) (w_1, w_2, b)$. We have $g'(z) = \\frac{e^{-z}}{(1 + e^{-z})^2}$."
   ]
  },
  {
   "cell_type": "code",
   "execution_count": 7,
   "metadata": {},
   "outputs": [],
   "source": [
    "sigma = 1.0 / (1.0 + torch.exp(- z))"
   ]
  },
  {
   "cell_type": "code",
   "execution_count": 8,
   "metadata": {},
   "outputs": [
    {
     "data": {
      "text/plain": [
       "<torch.utils.hooks.RemovableHandle at 0x10e9812b0>"
      ]
     },
     "execution_count": 8,
     "metadata": {},
     "output_type": "execute_result"
    }
   ],
   "source": [
    "sigma.register_hook(set_grad(sigma))    "
   ]
  },
  {
   "cell_type": "markdown",
   "metadata": {},
   "source": [
    "Let us define $L = h(\\sigma) = - (y \\log(\\sigma) + (1 - y) \\log(1 - \\sigma)) = h(g(z)) = h(g(f(w_1, w_2, b))) = (h \\circ g \\circ f) (w_1, w_2, b)$. We have $L'(\\sigma) = - (\\frac{y}{\\sigma} - \\frac{1 - y}{1 - \\sigma})$."
   ]
  },
  {
   "cell_type": "code",
   "execution_count": 9,
   "metadata": {},
   "outputs": [],
   "source": [
    "L = - (y * torch.log(sigma) + (1 - y) * torch.log(1 - sigma))"
   ]
  },
  {
   "cell_type": "code",
   "execution_count": 10,
   "metadata": {},
   "outputs": [],
   "source": [
    "L.backward()"
   ]
  },
  {
   "cell_type": "markdown",
   "metadata": {},
   "source": [
    "We have $\\frac{\\partial L}{\\partial \\sigma} = - (\\frac{y}{\\sigma} - \\frac{1 - y}{1 - \\sigma})$. Let us compute the result with PyTorch and using the exact mathematical formula."
   ]
  },
  {
   "cell_type": "code",
   "execution_count": 11,
   "metadata": {},
   "outputs": [
    {
     "name": "stdout",
     "output_type": "stream",
     "text": [
      "tensor([-1.0067]) tensor([-1.0067], grad_fn=<NegBackward>)\n"
     ]
    }
   ],
   "source": [
    "print(sigma.grad, - (y / sigma - (1 - y) / (1 - sigma)))"
   ]
  },
  {
   "cell_type": "markdown",
   "metadata": {},
   "source": [
    "We have $\\frac{\\partial L}{\\partial z} = g'(z) h'(g(z))$. Let us compute the result with PyTorch and using the exact mathematical formula."
   ]
  },
  {
   "cell_type": "code",
   "execution_count": 12,
   "metadata": {},
   "outputs": [
    {
     "name": "stdout",
     "output_type": "stream",
     "text": [
      "tensor([-0.0067]) tensor([-0.0067], grad_fn=<MulBackward0>)\n"
     ]
    }
   ],
   "source": [
    "print(z.grad, (exp(-z) / ((1 + exp(-z)) ** 2.0)) * (- (y / sigma - (1 - y) / (1 - sigma))))"
   ]
  },
  {
   "cell_type": "markdown",
   "metadata": {},
   "source": [
    "We have $\\frac{\\partial L}{\\partial b} = \\frac{\\partial f}{\\partial b} g'(f(w_1, w_2, b)) h'(g(f(w_1, w_2, b)))$ that is $\\frac{\\partial L}{\\partial b} = \\frac{\\partial f}{\\partial b} g'(z) h'(\\sigma)$. Similarly, we have $\\frac{\\partial L}{\\partial w_i} = \\frac{\\partial f}{\\partial w_i} g'(f(w_1, w_2, b)) h'(g(f(w_1, w_2, b)))$ that is $\\frac{\\partial L}{\\partial w_i} = \\frac{\\partial f}{\\partial w_i} g'(z) h'(\\sigma)$. Let us compute the result with PyTorch and using the exact mathematical formula."
   ]
  },
  {
   "cell_type": "code",
   "execution_count": 13,
   "metadata": {},
   "outputs": [
    {
     "name": "stdout",
     "output_type": "stream",
     "text": [
      "tensor([-0.0067]) tensor([-0.0067], grad_fn=<MulBackward0>)\n"
     ]
    }
   ],
   "source": [
    "print(B.grad, 1 * (exp(-z) / ((1 + exp(-z)) ** 2.0)) * (- (y / sigma - (1 - y) / (1 - sigma))))"
   ]
  },
  {
   "cell_type": "code",
   "execution_count": 14,
   "metadata": {},
   "outputs": [
    {
     "name": "stdout",
     "output_type": "stream",
     "text": [
      "tensor([-0.0067, -0.0134]) tensor([-0.0067, -0.0134], grad_fn=<MulBackward0>)\n"
     ]
    }
   ],
   "source": [
    "print(W.grad, X * (exp(-z) / ((1 + exp(-z)) ** 2.0)) * (- (y / sigma - (1 - y) / (1 - sigma))))"
   ]
  },
  {
   "cell_type": "code",
   "execution_count": null,
   "metadata": {},
   "outputs": [],
   "source": []
  }
 ],
 "metadata": {
  "kernelspec": {
   "display_name": "Python 3",
   "language": "python",
   "name": "python3"
  },
  "language_info": {
   "codemirror_mode": {
    "name": "ipython",
    "version": 3
   },
   "file_extension": ".py",
   "mimetype": "text/x-python",
   "name": "python",
   "nbconvert_exporter": "python",
   "pygments_lexer": "ipython3",
   "version": "3.9.1"
  }
 },
 "nbformat": 4,
 "nbformat_minor": 4
}
