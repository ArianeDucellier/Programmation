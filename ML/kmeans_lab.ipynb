{
 "cells": [
  {
   "cell_type": "markdown",
   "metadata": {},
   "source": [
    "# K-means clustering - Lab\n",
    "\n",
    "Draft of a lab on K-means clustering. How to choose the number of clusters when doing means clustering?\n",
    "\n",
    "Students should read the paper: Tibshirani, R. and Walther, G. (2005) Cluster validation by prediction strength. Journal of Computational and Graphical Statistics 14(3):511-528.\n",
    "\n",
    "Text to be completed. Solution should be left blank."
   ]
  },
  {
   "cell_type": "markdown",
   "metadata": {},
   "source": [
    "Import useful Python packages"
   ]
  },
  {
   "cell_type": "code",
   "execution_count": 1,
   "metadata": {},
   "outputs": [],
   "source": [
    "import matplotlib.pyplot as plt\n",
    "import numpy as np\n",
    "import pandas as pd\n",
    "import random\n",
    "from sklearn.cluster import KMeans"
   ]
  },
  {
   "cell_type": "markdown",
   "metadata": {},
   "source": [
    "Set seed for reproducibility"
   ]
  },
  {
   "cell_type": "code",
   "execution_count": 2,
   "metadata": {},
   "outputs": [],
   "source": [
    "random.seed(0)"
   ]
  },
  {
   "cell_type": "markdown",
   "metadata": {},
   "source": [
    "Import data"
   ]
  },
  {
   "cell_type": "code",
   "execution_count": 3,
   "metadata": {},
   "outputs": [],
   "source": [
    "faithful = pd.read_csv('faithful.csv')\n",
    "data = faithful.to_numpy()"
   ]
  },
  {
   "cell_type": "markdown",
   "metadata": {},
   "source": [
    "Step 1: Divide the data into a training set and a test set of approximately "
   ]
  },
  {
   "cell_type": "code",
   "execution_count": 4,
   "metadata": {},
   "outputs": [],
   "source": [
    "# Solution (to be deleted)\n",
    "index = np.random.uniform(size=np.shape(data)[0])\n",
    "train = data[index < 0.5, :]\n",
    "test = data[index >= 0.5, :]"
   ]
  },
  {
   "cell_type": "markdown",
   "metadata": {},
   "source": [
    "Choose k = 2 clusters. Apply K-means clustering to the training set and the test set using the Kmeans function from ScikitLearn"
   ]
  },
  {
   "cell_type": "code",
   "execution_count": 5,
   "metadata": {},
   "outputs": [],
   "source": [
    "# Solution (to be deletd)\n",
    "k = 2\n",
    "kmeans_train = KMeans(n_clusters=k, random_state=0).fit(train)\n",
    "kmeans_test = KMeans(n_clusters=k, random_state=0).fit(test)"
   ]
  },
  {
   "cell_type": "markdown",
   "metadata": {},
   "source": [
    "Step 2: Get the clusters for the test set. Plot the two clusters with two different clusters."
   ]
  },
  {
   "cell_type": "code",
   "execution_count": 6,
   "metadata": {},
   "outputs": [],
   "source": [
    "# Solution (to be deleted)\n",
    "clusters_test = kmeans_test.labels_\n",
    "# add plot"
   ]
  },
  {
   "cell_type": "markdown",
   "metadata": {},
   "source": [
    "Step 3: Use the clustering and centroids from the training set to predict to which cluster the data points from the test set should belong. Plot"
   ]
  },
  {
   "cell_type": "code",
   "execution_count": 7,
   "metadata": {},
   "outputs": [],
   "source": [
    "# Solution (to be deleted)\n",
    "test_predict = kmeans_train.predict(test)\n",
    "# add plot"
   ]
  },
  {
   "cell_type": "markdown",
   "metadata": {},
   "source": [
    "Step 4: Compute the prediction strength as define in the paper.\n",
    "\n",
    "(add more explanations here about the definition of prediction strength)"
   ]
  },
  {
   "cell_type": "code",
   "execution_count": 8,
   "metadata": {},
   "outputs": [],
   "source": [
    "# Solution (to be deleted)\n",
    "ps_clust = np.zeros(k)\n",
    "for j in range(0, k):\n",
    "    cluster = clusters_test[clusters_test == j]\n",
    "    classification = test_predict[clusters_test == j]\n",
    "    N = np.shape(cluster)[0]\n",
    "    D = 0\n",
    "    for i1 in range(0, N):\n",
    "        for i2 in range(0, N):\n",
    "            if i1 != i2:\n",
    "                if classification[i1] == classification[i2]:\n",
    "                    D = D + 1\n",
    "    ps_clust[j] = D / (N * (N - 1))\n",
    "ps = np.min(ps_clust)"
   ]
  },
  {
   "cell_type": "markdown",
   "metadata": {},
   "source": [
    "Step 5: Write a function that does steps 1 to 4 for any number k of clusters"
   ]
  },
  {
   "cell_type": "code",
   "execution_count": 9,
   "metadata": {},
   "outputs": [],
   "source": [
    "# Solution (to be deleted)\n",
    "def compute_ps(train, test, k):\n",
    "    \"\"\"\n",
    "    \"\"\"\n",
    "    kmeans_train = KMeans(n_clusters=k, random_state=0).fit(train)\n",
    "    kmeans_test = KMeans(n_clusters=k, random_state=0).fit(test)\n",
    "    clusters_test = kmeans_test.labels_\n",
    "    test_predict = kmeans_train.predict(test)\n",
    "    ps_clust = np.zeros(k)\n",
    "    for j in range(0, k):\n",
    "        cluster = clusters_test[clusters_test == j]\n",
    "        classification = test_predict[clusters_test == j]\n",
    "        N = np.shape(cluster)[0]\n",
    "        D = 0\n",
    "        for i1 in range(0, N):\n",
    "            for i2 in range(0, N):\n",
    "                if i1 != i2:\n",
    "                    if classification[i1] == classification[i2]:\n",
    "                        D = D + 1\n",
    "        ps_clust[j] = D / (N * (N - 1))\n",
    "    ps = np.min(ps_clust)\n",
    "    return(ps)"
   ]
  },
  {
   "cell_type": "markdown",
   "metadata": {},
   "source": [
    "Apply function to k = 2, ... , 9"
   ]
  },
  {
   "cell_type": "code",
   "execution_count": 10,
   "metadata": {},
   "outputs": [],
   "source": [
    "# Solution (to be deleted)\n",
    "ps = np.zeros(8)\n",
    "for k in range(2, 10):\n",
    "    ps[k - 2] = compute_ps(train, test, k)"
   ]
  },
  {
   "cell_type": "markdown",
   "metadata": {},
   "source": [
    "Plot prediction strength as a function of number of clusters. What is the optimal number of clusters for this dataset?"
   ]
  },
  {
   "cell_type": "code",
   "execution_count": 11,
   "metadata": {},
   "outputs": [
    {
     "data": {
      "text/plain": [
       "[<matplotlib.lines.Line2D at 0x125845be0>]"
      ]
     },
     "execution_count": 11,
     "metadata": {},
     "output_type": "execute_result"
    },
    {
     "data": {
      "image/png": "[encoded data removed]",
      "text/plain": [
       "<Figure size 432x288 with 1 Axes>"
      ]
     },
     "metadata": {
      "needs_background": "light"
     },
     "output_type": "display_data"
    }
   ],
   "source": [
    "# Solution (to be deleted)\n",
    "plt.plot(np.arange(2, 10), ps)"
   ]
  },
  {
   "cell_type": "code",
   "execution_count": null,
   "metadata": {},
   "outputs": [],
   "source": []
  }
 ],
 "metadata": {
  "kernelspec": {
   "display_name": "Python 3",
   "language": "python",
   "name": "python3"
  },
  "language_info": {
   "codemirror_mode": {
    "name": "ipython",
    "version": 3
   },
   "file_extension": ".py",
   "mimetype": "text/x-python",
   "name": "python",
   "nbconvert_exporter": "python",
   "pygments_lexer": "ipython3",
   "version": "3.9.1"
  }
 },
 "nbformat": 4,
 "nbformat_minor": 4
}
