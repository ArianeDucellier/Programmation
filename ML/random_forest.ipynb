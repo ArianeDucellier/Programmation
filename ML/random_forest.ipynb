{
 "cells": [
  {
   "cell_type": "code",
   "execution_count": 1,
   "metadata": {},
   "outputs": [],
   "source": [
    "import matplotlib.pyplot as plt\n",
    "import numpy as np\n",
    "import pandas as pd"
   ]
  },
  {
   "cell_type": "code",
   "execution_count": 2,
   "metadata": {},
   "outputs": [],
   "source": [
    "from sklearn import datasets\n",
    "iris = datasets.load_iris()\n",
    "X = iris.data\n",
    "Y = iris.target"
   ]
  },
  {
   "cell_type": "code",
   "execution_count": 50,
   "metadata": {},
   "outputs": [],
   "source": [
    "def split_unit(X, Y, l1, l2):\n",
    "    \"\"\"\n",
    "    \"\"\"\n",
    "    values = np.arange(np.min(X), np.max(X) + 0.1, 0.1)\n",
    "    left = np.zeros(len(values))\n",
    "    right = np.zeros(len(values))\n",
    "    for j in range(0, len(values)):\n",
    "        Y_l1 = Y[X <= values[j]]\n",
    "        Y_l2 = Y[X > values[j]]\n",
    "        left[j] = (np.sum(np.isin(Y_l1, l1)) + \\\n",
    "                   np.sum(np.isin(Y_l2, l2))) / len(Y)\n",
    "        Y_l1 = Y[X >= values[j]]\n",
    "        Y_l2 = Y[X < values[j]]\n",
    "        right[j] = (np.sum(np.isin(Y_l1, l1)) + \\\n",
    "                    np.sum(np.isin(Y_l2, l2))) / len(Y)\n",
    "    if np.max(left) > np.max(right):\n",
    "        return ('left', values[np.argmax(left)], np.max(left))\n",
    "    else:\n",
    "        return ('right', values[np.argmax(right)], np.max(right))"
   ]
  },
  {
   "cell_type": "code",
   "execution_count": 80,
   "metadata": {},
   "outputs": [],
   "source": [
    "def split_axis(X, Y):\n",
    "    \"\"\"\n",
    "    \"\"\"\n",
    "    levels = np.unique(Y)\n",
    "    side = []\n",
    "    value = []\n",
    "    quality = []\n",
    "    for i in range(0, len(levels)):\n",
    "        l1 = [levels[i]]\n",
    "        l2 = levels.tolist()\n",
    "        l2.remove(levels[i])\n",
    "        result = split_unit(X, Y, l1, l2)\n",
    "        side.append(result[0])\n",
    "        value.append(result[1])\n",
    "        quality.append(result[2])\n",
    "    best = max(quality)\n",
    "    index = quality.index(best)\n",
    "    return (levels[index], side[index], value[index])"
   ]
  },
  {
   "cell_type": "code",
   "execution_count": 78,
   "metadata": {},
   "outputs": [
    {
     "name": "stdout",
     "output_type": "stream",
     "text": [
      "('left', 5.499999999999996)\n",
      "('right', 3.300000000000001)\n",
      "('left', 1.9000000000000008)\n",
      "('left', 0.6)\n"
     ]
    }
   ],
   "source": [
    "def split_all_axis(X, Y)\n",
    "    \"\"\"\n",
    "    \"\"\"\n",
    "    \n",
    "    (side1, value1) = split_axis(X, Y)"
   ]
  },
  {
   "cell_type": "code",
   "execution_count": 82,
   "metadata": {},
   "outputs": [
    {
     "name": "stdout",
     "output_type": "stream",
     "text": [
      "(1, 'left', 6.199999999999996)\n",
      "(1, 'left', 2.900000000000001)\n",
      "(1, 'left', 4.700000000000001)\n",
      "(1, 'left', 1.6000000000000005)\n"
     ]
    }
   ],
   "source": [
    "for i in range(0, 4):\n",
    "    print(split_axis(X[51:,i], Y[51:]))"
   ]
  },
  {
   "cell_type": "code",
   "execution_count": 49,
   "metadata": {},
   "outputs": [
    {
     "data": {
      "text/plain": [
       "[<matplotlib.lines.Line2D at 0x1423c0d10>]"
      ]
     },
     "execution_count": 49,
     "metadata": {},
     "output_type": "execute_result"
    },
    {
     "data": {
      "image/png": "[encoded data removed]",
      "text/plain": [
       "<Figure size 432x288 with 1 Axes>"
      ]
     },
     "metadata": {
      "needs_background": "light"
     },
     "output_type": "display_data"
    }
   ],
   "source": [
    "plt.plot(X[(Y==0),0], X[(Y==0),1], 'bo')\n",
    "plt.plot(X[(Y!=0),0], X[(Y!=0),1], 'ro')"
   ]
  },
  {
   "cell_type": "code",
   "execution_count": null,
   "metadata": {},
   "outputs": [],
   "source": []
  },
  {
   "cell_type": "code",
   "execution_count": 70,
   "metadata": {},
   "outputs": [],
   "source": [
    "levels = np.unique(Y)"
   ]
  },
  {
   "cell_type": "code",
   "execution_count": 71,
   "metadata": {},
   "outputs": [
    {
     "name": "stdout",
     "output_type": "stream",
     "text": [
      "[0] [1, 2]\n",
      "[1] [0, 2]\n",
      "[2] [0, 1]\n"
     ]
    }
   ],
   "source": [
    "for i in range(0, len(levels)):\n",
    "    l1 = [levels[i]]\n",
    "    l2 = levels.tolist()\n",
    "    l2.remove(levels[i])\n",
    "    print(l1, l2)"
   ]
  },
  {
   "cell_type": "code",
   "execution_count": 66,
   "metadata": {},
   "outputs": [
    {
     "data": {
      "text/plain": [
       "[0, 1, 2]"
      ]
     },
     "execution_count": 66,
     "metadata": {},
     "output_type": "execute_result"
    }
   ],
   "source": [
    "levels"
   ]
  },
  {
   "cell_type": "code",
   "execution_count": 67,
   "metadata": {},
   "outputs": [],
   "source": [
    "levels.remove(1)"
   ]
  },
  {
   "cell_type": "code",
   "execution_count": 68,
   "metadata": {},
   "outputs": [
    {
     "data": {
      "text/plain": [
       "[0, 2]"
      ]
     },
     "execution_count": 68,
     "metadata": {},
     "output_type": "execute_result"
    }
   ],
   "source": [
    "levels"
   ]
  },
  {
   "cell_type": "code",
   "execution_count": null,
   "metadata": {},
   "outputs": [],
   "source": []
  }
 ],
 "metadata": {
  "kernelspec": {
   "display_name": "Python 3",
   "language": "python",
   "name": "python3"
  },
  "language_info": {
   "codemirror_mode": {
    "name": "ipython",
    "version": 3
   },
   "file_extension": ".py",
   "mimetype": "text/x-python",
   "name": "python",
   "nbconvert_exporter": "python",
   "pygments_lexer": "ipython3",
   "version": "3.7.8"
  }
 },
 "nbformat": 4,
 "nbformat_minor": 4
}
