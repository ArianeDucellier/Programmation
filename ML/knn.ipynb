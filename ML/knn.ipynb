{
 "cells": [
  {
   "cell_type": "code",
   "execution_count": 1,
   "metadata": {},
   "outputs": [],
   "source": [
    "import matplotlib.pyplot as plt\n",
    "import numpy as np\n",
    "from math import sqrt\n",
    "from scipy import stats"
   ]
  },
  {
   "cell_type": "code",
   "execution_count": 2,
   "metadata": {},
   "outputs": [],
   "source": [
    "from sklearn import datasets\n",
    "iris = datasets.load_iris()\n",
    "X = iris.data\n",
    "Y = iris.target"
   ]
  },
  {
   "cell_type": "code",
   "execution_count": 3,
   "metadata": {},
   "outputs": [],
   "source": [
    "def normalize(X):\n",
    "    \"\"\"\n",
    "    \"\"\"\n",
    "    for i in range(0, np.shape(X)[1]):\n",
    "        X[:, i] = (X[:, i] - np.mean(X[:, i])) / np.std(X[:, i])"
   ]
  },
  {
   "cell_type": "code",
   "execution_count": 4,
   "metadata": {},
   "outputs": [],
   "source": [
    "def distance(x, X):\n",
    "    \"\"\"\n",
    "    \"\"\"\n",
    "    dist = 0\n",
    "    for i in range(0, np.shape(X)[1]):\n",
    "        dist = dist + np.square(x[i] - X[:, i])\n",
    "    dist = np.sqrt(dist)\n",
    "    return dist"
   ]
  },
  {
   "cell_type": "code",
   "execution_count": 5,
   "metadata": {},
   "outputs": [],
   "source": [
    "def knn(X_train, Y_train, X_test, k):\n",
    "    \"\"\"\n",
    "    \"\"\"\n",
    "    Y_test = np.zeros(np.shape(X_test)[0])\n",
    "    for i in range(0, np.shape(X_test)[0]):\n",
    "        dist = distance(X_test[i, :], X_train)\n",
    "        closest = np.argsort(dist)[0:k]\n",
    "        neighbors = Y_train[closest]\n",
    "        Y_test[i] = stats.mode(neighbors)[0][0]\n",
    "    return Y_test"
   ]
  },
  {
   "cell_type": "code",
   "execution_count": 6,
   "metadata": {},
   "outputs": [],
   "source": [
    "def K_CV(X, Y, K, k):\n",
    "    index = np.random.uniform(size = np.shape(X)[0])\n",
    "    true_pred = np.zeros(K)\n",
    "    for i in range(0, K):\n",
    "        index_train = np.where((index < i / K) | (index >= (i + 1) / K))[0]\n",
    "        index_test = np.where((index >= i / K) & (index < (i + 1) / K))[0]\n",
    "        X_train = X[index_train, :]\n",
    "        X_test = X[index_test, :]\n",
    "        Y_train = Y[index_train]\n",
    "        Y_test = Y[index_test]\n",
    "        predict = knn(X_train, Y_train, X_test, k)\n",
    "        true_pred[i] = np.sum(Y_test == predict) / np.shape(X_test)[0]\n",
    "    return np.mean(true_pred)"
   ]
  },
  {
   "cell_type": "code",
   "execution_count": 7,
   "metadata": {},
   "outputs": [],
   "source": [
    "def N_CV(X, Y, N, K, k):\n",
    "    true_pred = np.zeros(N)\n",
    "    for i in range(1, N):\n",
    "        true_pred[i] = K_CV(X, Y, K, k)\n",
    "    return np.mean(true_pred)"
   ]
  },
  {
   "cell_type": "code",
   "execution_count": 8,
   "metadata": {},
   "outputs": [],
   "source": [
    "K = 10\n",
    "N = 100\n",
    "true_pred = np.zeros(20)\n",
    "for k in range(1, 21):\n",
    "    true_pred[k - 1] = N_CV(X, Y, N, K, k)"
   ]
  },
  {
   "cell_type": "code",
   "execution_count": 9,
   "metadata": {},
   "outputs": [
    {
     "data": {
      "text/plain": [
       "[<matplotlib.lines.Line2D at 0x139033510>]"
      ]
     },
     "execution_count": 9,
     "metadata": {},
     "output_type": "execute_result"
    },
    {
     "data": {
      "image/png": "[encoded data removed]",
      "text/plain": [
       "<Figure size 432x288 with 1 Axes>"
      ]
     },
     "metadata": {
      "needs_background": "light"
     },
     "output_type": "display_data"
    }
   ],
   "source": [
    "plt.plot(np.arange(1, 21), true_pred, 'bo')"
   ]
  },
  {
   "cell_type": "code",
   "execution_count": null,
   "metadata": {},
   "outputs": [],
   "source": []
  }
 ],
 "metadata": {
  "kernelspec": {
   "display_name": "Python 3",
   "language": "python",
   "name": "python3"
  },
  "language_info": {
   "codemirror_mode": {
    "name": "ipython",
    "version": 3
   },
   "file_extension": ".py",
   "mimetype": "text/x-python",
   "name": "python",
   "nbconvert_exporter": "python",
   "pygments_lexer": "ipython3",
   "version": "3.7.8"
  }
 },
 "nbformat": 4,
 "nbformat_minor": 4
}
