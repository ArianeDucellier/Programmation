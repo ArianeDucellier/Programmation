{
 "cells": [
  {
   "cell_type": "markdown",
   "metadata": {},
   "source": [
    "# K-means clustering - Tutorial\n",
    "\n",
    "Draft of a tutorial on K-means clustering. Text to be completed. A dataset more interesting that the Old Faithful dataset from R should be found."
   ]
  },
  {
   "cell_type": "markdown",
   "metadata": {},
   "source": [
    "Import useful Python packages"
   ]
  },
  {
   "cell_type": "code",
   "execution_count": 1,
   "metadata": {},
   "outputs": [],
   "source": [
    "import matplotlib.pyplot as plt\n",
    "import numpy as np\n",
    "import pandas as pd\n",
    "import random\n",
    "from math import sqrt"
   ]
  },
  {
   "cell_type": "markdown",
   "metadata": {},
   "source": [
    "Set seed for reproducibility"
   ]
  },
  {
   "cell_type": "code",
   "execution_count": 2,
   "metadata": {},
   "outputs": [],
   "source": [
    "random.seed(0)"
   ]
  },
  {
   "cell_type": "markdown",
   "metadata": {},
   "source": [
    "Import data"
   ]
  },
  {
   "cell_type": "code",
   "execution_count": 3,
   "metadata": {},
   "outputs": [],
   "source": [
    "faithful = pd.read_csv('faithful.csv')\n",
    "data = faithful.to_numpy()"
   ]
  },
  {
   "cell_type": "markdown",
   "metadata": {},
   "source": [
    "Initialization of the centroid of the clusters"
   ]
  },
  {
   "cell_type": "code",
   "execution_count": 4,
   "metadata": {},
   "outputs": [],
   "source": [
    "def init_centers(data, k):\n",
    "    \"\"\"\n",
    "    \"\"\"\n",
    "    centers = np.zeros((k, np.shape(data)[1]))\n",
    "    for i in range(0, k):\n",
    "        dist = np.random.uniform(size=np.shape(data)[1])\n",
    "        centers[i, :] = np.min(data, axis=0) + (np.max(data, axis=0) - np.min(data, axis=0)) * dist\n",
    "    return centers"
   ]
  },
  {
   "cell_type": "markdown",
   "metadata": {},
   "source": [
    "Compute the distance between each point in the dataset and each centroid"
   ]
  },
  {
   "cell_type": "code",
   "execution_count": 5,
   "metadata": {},
   "outputs": [],
   "source": [
    "def compute_distance(data, centers, k):\n",
    "    \"\"\"\n",
    "    \"\"\"\n",
    "    distance = np.zeros((np.shape(data)[0], k))\n",
    "    for i in range(0, np.shape(data)[0]):\n",
    "        for j in range(0, k):\n",
    "            distance[i, j] = sqrt(np.sum(np.square(data[i, :] - centers[j, :])))\n",
    "    return distance"
   ]
  },
  {
   "cell_type": "markdown",
   "metadata": {},
   "source": [
    "Each point belongs to the cluster which centroid is the closest to the point"
   ]
  },
  {
   "cell_type": "code",
   "execution_count": 6,
   "metadata": {},
   "outputs": [],
   "source": [
    "def compute_clusters(distance):\n",
    "    \"\"\"\n",
    "    \"\"\"\n",
    "    clusters = np.zeros(np.shape(distance)[0])\n",
    "    objective = 0.0\n",
    "    for i in range(0, np.shape(distance)[0]):\n",
    "        best = np.argmin(distance[i, :])\n",
    "        clusters[i] = best\n",
    "        objective = objective + distance[i, best]\n",
    "    objective = objective / np.shape(distance)[0]\n",
    "    return (clusters, objective)"
   ]
  },
  {
   "cell_type": "markdown",
   "metadata": {},
   "source": [
    "After all points are affected to a cluster, compute the new location of the centroid"
   ]
  },
  {
   "cell_type": "code",
   "execution_count": 7,
   "metadata": {},
   "outputs": [],
   "source": [
    "def compute_centers(data, clusters, k):\n",
    "    \"\"\"\n",
    "    \"\"\"\n",
    "    centers = np.zeros((k, np.shape(data)[1]))\n",
    "    for i in range(0, k):\n",
    "        subdata = data[clusters == i, :]\n",
    "        if (np.shape(subdata)[0] == 0):\n",
    "            centers[i, :] = init_centers(data, 1)\n",
    "        else:\n",
    "            centers[i, :] = np.mean(subdata, axis=0)\n",
    "    return centers"
   ]
  },
  {
   "cell_type": "markdown",
   "metadata": {},
   "source": [
    "K-means algorithm. Define an objective function. Stop when the objective function no longer decreases "
   ]
  },
  {
   "cell_type": "code",
   "execution_count": 8,
   "metadata": {},
   "outputs": [],
   "source": [
    "def kmeans(data, k):\n",
    "    \"\"\"\n",
    "    \"\"\"\n",
    "    centers = init_centers(data, k)\n",
    "    objective_old = sqrt(np.sum(np.sqrt(np.max(data, axis=0) - np.min(data, axis=0))))\n",
    "    clusters_old = np.zeros(np.shape(data)[0])\n",
    "    stop_alg = False\n",
    "    while stop_alg == False:\n",
    "        distance = compute_distance(data, centers, k)\n",
    "        (clusters_new, objective_new) = compute_clusters(distance)\n",
    "        if objective_new >= objective_old:\n",
    "            return (clusters_old, objective_old, centers)\n",
    "        else:\n",
    "            centers = compute_centers(data, clusters_new, k)\n",
    "            objective_old = objective_new\n",
    "            clusters_old = clusters_new"
   ]
  },
  {
   "cell_type": "markdown",
   "metadata": {},
   "source": [
    "Result is very sensitive to the location of the initial centroid. Repeat the clustering N times and choose the clustering with the best objective function"
   ]
  },
  {
   "cell_type": "code",
   "execution_count": 9,
   "metadata": {},
   "outputs": [],
   "source": [
    "def repeat_kmeans(data, k, N):\n",
    "    \"\"\"\n",
    "    \"\"\"\n",
    "    objective = np.zeros(N)\n",
    "    clusters = np.zeros((N, np.shape(data)[0]))\n",
    "    centers = np.zeros((N, k, np.shape(data)[1]))\n",
    "    for i in range(0, N):\n",
    "        result = kmeans(data, k)\n",
    "        clusters[i, :] = result[0]\n",
    "        objective[i] = result[1]\n",
    "        centers[i, :, :] = result[2]\n",
    "    best = np.argmin(objective)\n",
    "    return (objective[best], clusters[best, :], centers[best, :, :])"
   ]
  },
  {
   "cell_type": "markdown",
   "metadata": {},
   "source": [
    "Run the code"
   ]
  },
  {
   "cell_type": "code",
   "execution_count": 10,
   "metadata": {},
   "outputs": [],
   "source": [
    "k = 4\n",
    "N = 100\n",
    "(objective, clusters, centers) = repeat_kmeans(data, k, N)"
   ]
  },
  {
   "cell_type": "markdown",
   "metadata": {},
   "source": [
    "Plot the clusters"
   ]
  },
  {
   "cell_type": "code",
   "execution_count": 11,
   "metadata": {},
   "outputs": [
    {
     "data": {
      "text/plain": [
       "[<matplotlib.lines.Line2D at 0x13978e410>]"
      ]
     },
     "execution_count": 11,
     "metadata": {},
     "output_type": "execute_result"
    },
    {
     "data": {
      "image/png": "[encoded data removed]",
      "text/plain": [
       "<Figure size 432x288 with 1 Axes>"
      ]
     },
     "metadata": {
      "needs_background": "light"
     },
     "output_type": "display_data"
    }
   ],
   "source": [
    "plt.scatter(data[:,0], data[:,1], c=clusters)\n",
    "plt.plot(centers[:, 0], centers[:, 1], 'kx')"
   ]
  },
  {
   "cell_type": "markdown",
   "metadata": {},
   "source": [
    "## Choice of number of clusters\n",
    "\n",
    "Elbow method"
   ]
  },
  {
   "cell_type": "code",
   "execution_count": 12,
   "metadata": {},
   "outputs": [],
   "source": [
    "def compute_elbow(data, clusters, centers, k):\n",
    "    \"\"\"\n",
    "    \"\"\"\n",
    "    E = 0\n",
    "    for i in range(0, k):\n",
    "        distance = compute_distance(data[clusters == i, :], centers[i, :].reshape(1, -1), 1)\n",
    "        E = E + np.mean(np.square(distance))\n",
    "    return E"
   ]
  },
  {
   "cell_type": "markdown",
   "metadata": {},
   "source": [
    "Compute the value of E for different values of the number of clusters"
   ]
  },
  {
   "cell_type": "code",
   "execution_count": 13,
   "metadata": {},
   "outputs": [],
   "source": [
    "E = np.zeros(8)\n",
    "for k in range(1, 9):\n",
    "    (objective, clusters, centers) = repeat_kmeans(data, k, N)\n",
    "    E[k - 1] = compute_elbow(data, clusters, centers, k)"
   ]
  },
  {
   "cell_type": "markdown",
   "metadata": {},
   "source": [
    "Plot. E reaches a minimum for 4 clusters."
   ]
  },
  {
   "cell_type": "code",
   "execution_count": 14,
   "metadata": {},
   "outputs": [
    {
     "data": {
      "text/plain": [
       "[<matplotlib.lines.Line2D at 0x139950a10>]"
      ]
     },
     "execution_count": 14,
     "metadata": {},
     "output_type": "execute_result"
    },
    {
     "data": {
      "image/png": "[encoded data removed]",
      "text/plain": [
       "<Figure size 432x288 with 1 Axes>"
      ]
     },
     "metadata": {
      "needs_background": "light"
     },
     "output_type": "display_data"
    }
   ],
   "source": [
    "plt.plot(np.arange(1, 9), E)"
   ]
  },
  {
   "cell_type": "code",
   "execution_count": null,
   "metadata": {},
   "outputs": [],
   "source": []
  }
 ],
 "metadata": {
  "kernelspec": {
   "display_name": "Python 3",
   "language": "python",
   "name": "python3"
  },
  "language_info": {
   "codemirror_mode": {
    "name": "ipython",
    "version": 3
   },
   "file_extension": ".py",
   "mimetype": "text/x-python",
   "name": "python",
   "nbconvert_exporter": "python",
   "pygments_lexer": "ipython3",
   "version": "3.7.8"
  }
 },
 "nbformat": 4,
 "nbformat_minor": 4
}
